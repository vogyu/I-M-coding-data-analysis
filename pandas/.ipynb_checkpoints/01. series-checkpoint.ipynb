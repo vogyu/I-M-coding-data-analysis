{
 "cells": [
  {
   "cell_type": "markdown",
   "id": "5cb033a3",
   "metadata": {},
   "source": [
    "# pandas\n",
    "파이썬에서 사용하는 데이터 분석 라이브러리"
   ]
  },
  {
   "cell_type": "code",
   "execution_count": 1,
   "id": "13ce11ba",
   "metadata": {},
   "outputs": [],
   "source": [
    "import pandas as pd"
   ]
  },
  {
   "cell_type": "markdown",
   "id": "5f1e31da",
   "metadata": {},
   "source": [
    "# 1. Series\n",
    "1차원 데이터(정수, 실수, 문자열 등)"
   ]
  },
  {
   "cell_type": "markdown",
   "id": "19a2dd67",
   "metadata": {},
   "source": [
    "## Series 객체 생성\n",
    "ex) 1월부터 4월까지 평균 데이터 (-20, -10, 10, 20)"
   ]
  },
  {
   "cell_type": "code",
   "execution_count": 2,
   "id": "26db5505",
   "metadata": {},
   "outputs": [
    {
     "name": "stdout",
     "output_type": "stream",
     "text": [
      "0   -20\n",
      "1   -10\n",
      "2    10\n",
      "3    20\n",
      "dtype: int64\n"
     ]
    }
   ],
   "source": [
    "temp = pd.Series([-20, -10, 10, 20])\n",
    "print(temp)"
   ]
  },
  {
   "cell_type": "code",
   "execution_count": 3,
   "id": "48c65df8",
   "metadata": {},
   "outputs": [
    {
     "data": {
      "text/plain": [
       "-20"
      ]
     },
     "execution_count": 3,
     "metadata": {},
     "output_type": "execute_result"
    }
   ],
   "source": [
    "temp[0] # 1월 온도"
   ]
  },
  {
   "cell_type": "code",
   "execution_count": 4,
   "id": "b817cba0",
   "metadata": {},
   "outputs": [
    {
     "data": {
      "text/plain": [
       "10"
      ]
     },
     "execution_count": 4,
     "metadata": {},
     "output_type": "execute_result"
    }
   ],
   "source": [
    "temp[2] # 3월 온도"
   ]
  },
  {
   "cell_type": "markdown",
   "id": "4b6fdb7c",
   "metadata": {},
   "source": [
    "# Series 객체 생성 (Index 지정)"
   ]
  },
  {
   "cell_type": "code",
   "execution_count": 5,
   "id": "cf8bb1ae",
   "metadata": {},
   "outputs": [
    {
     "data": {
      "text/plain": [
       "jan   -20\n",
       "feb   -10\n",
       "mar    10\n",
       "apr    20\n",
       "dtype: int64"
      ]
     },
     "execution_count": 5,
     "metadata": {},
     "output_type": "execute_result"
    }
   ],
   "source": [
    "temp = pd.Series([-20, -10, 10, 20], index = [\"jan\", \"feb\", \"mar\", \"apr\"])\n",
    "temp"
   ]
  },
  {
   "cell_type": "code",
   "execution_count": 6,
   "id": "1f487916",
   "metadata": {},
   "outputs": [
    {
     "data": {
      "text/plain": [
       "-20"
      ]
     },
     "execution_count": 6,
     "metadata": {},
     "output_type": "execute_result"
    }
   ],
   "source": [
    " temp['jan'] # index jan(1월)에 해당하는 데이터"
   ]
  },
  {
   "cell_type": "code",
   "execution_count": 7,
   "id": "582a17de",
   "metadata": {},
   "outputs": [
    {
     "data": {
      "text/plain": [
       "20"
      ]
     },
     "execution_count": 7,
     "metadata": {},
     "output_type": "execute_result"
    }
   ],
   "source": [
    "temp['apr']# index apr(4월)에 해당하는 데이터"
   ]
  },
  {
   "cell_type": "code",
   "execution_count": 9,
   "id": "210ec29c",
   "metadata": {},
   "outputs": [],
   "source": [
    "#temp['june'] # 없는 데이터"
   ]
  },
  {
   "cell_type": "code",
   "execution_count": null,
   "id": "9f597a27",
   "metadata": {},
   "outputs": [],
   "source": []
  }
 ],
 "metadata": {
  "kernelspec": {
   "display_name": "Python 3",
   "language": "python",
   "name": "python3"
  },
  "language_info": {
   "codemirror_mode": {
    "name": "ipython",
    "version": 3
   },
   "file_extension": ".py",
   "mimetype": "text/x-python",
   "name": "python",
   "nbconvert_exporter": "python",
   "pygments_lexer": "ipython3",
   "version": "3.8.8"
  }
 },
 "nbformat": 4,
 "nbformat_minor": 5
}
